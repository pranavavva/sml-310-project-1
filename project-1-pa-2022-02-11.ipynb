{
 "cells": [
  {
   "cell_type": "markdown",
   "metadata": {},
   "source": [
    "# SML 310 - Project 1 - Linear Regression\n",
    "\n",
    "Pranav Avva"
   ]
  },
  {
   "cell_type": "code",
   "execution_count": 1,
   "metadata": {},
   "outputs": [],
   "source": [
    "import numpy as np\n",
    "import pandas as pd\n",
    "import matplotlib.pyplot as plt\n",
    "import seaborn as sns\n",
    "\n",
    "%matplotlib inline\n",
    "sns.set()"
   ]
  },
  {
   "cell_type": "markdown",
   "metadata": {},
   "source": [
    "## Problem 1 - Probability and Linear Regression"
   ]
  },
  {
   "cell_type": "markdown",
   "metadata": {},
   "source": [
    "### Part A\n",
    "\n",
    "**Question: Please explain what it means to perform a linear regression on a collection of pairs $\\{ \\left( x^{(i)}, y^{(i)} \\right) \\}$ with $1 \\leq i \\leq n$, drawn from two random variables $X$ and $Y$? What does this produce? How do we understand it? And what does this tell us about the underlying relationship between $X$ and $Y$?**"
   ]
  },
  {
   "cell_type": "markdown",
   "metadata": {},
   "source": [
    "### Part B\n",
    "\n",
    "**Question: Please generate a set of 100 data points $\\{ \\left( x^{(i)}, y^{(i)} \\right) \\}$ where $X$ is distributed according to the Gaussian distribution $N(0,1)$, and $Y=X^2$, and another set where $X$ is distributed according to the uniform distribution on $[0,1]$, and $Y = X^2$. Find the linear regression lines for each, and explain why it’s reasonable that they are the same/different.**"
   ]
  },
  {
   "cell_type": "markdown",
   "metadata": {},
   "source": [
    "### Part C\n",
    "\n",
    "**Please explain how it is possible to have a random variable $Y$ that is positively correlated with $X_1$ but whose cofficient $b_1 < 0$ in a multivariable linear regression model $Y = b_0 + b_1 X_1 + b_2 X_2$. What does this mean about how we interpret a multi-variable model? Can this happen in a single-variable linear regression model as well? Why/why not?**"
   ]
  },
  {
   "cell_type": "markdown",
   "metadata": {},
   "source": [
    "### Part D\n",
    "\n",
    "**Please create a dataset that demonstrates your explanation in 1c.**"
   ]
  },
  {
   "cell_type": "markdown",
   "metadata": {},
   "source": [
    "## Problem 2 - Anscombe's Quartet"
   ]
  },
  {
   "cell_type": "markdown",
   "metadata": {},
   "source": [
    "### Part A\n",
    "\n",
    "Please load each of the four datasets making Anscombe's Quartet from the $\\texttt{Anscombe\\_Quartet.xlsx}$ data file into a Pandas $\\texttt{DataFrame}$ with columns labelled by \"x\" and \"y\"."
   ]
  },
  {
   "cell_type": "markdown",
   "metadata": {},
   "source": [
    "### Part B\n",
    "\n",
    "Verify that each of these dataets has the same mean and varince for ech of the variables, and also the same linear regression line. To what extent do the means and variances of the columns (x and y) alone determing the regression line?"
   ]
  },
  {
   "cell_type": "markdown",
   "metadata": {},
   "source": [
    "### Part C\n",
    "\n",
    "Please use your skills as a data scientist to give what you feel is the best model for explaining the variable y in terms of x for each of these four datasets, being sure to carefully explain your reasoning!"
   ]
  },
  {
   "cell_type": "markdown",
   "metadata": {},
   "source": [
    "## Problem 3 - Diabetes Dataset"
   ]
  },
  {
   "cell_type": "markdown",
   "metadata": {},
   "source": [
    "### Part A\n",
    "\n",
    "Please load the scikit-learn diabetes dataset (e.g. with the Python $\\texttt{sklearn.datasets.load\\_diabetes()}$ command) into a Pandas $\\texttt{DataFrame}$ that includes all features as labeled columns (e.g. series), as well as the (labeled) disease progression measure in the last column."
   ]
  },
  {
   "cell_type": "markdown",
   "metadata": {},
   "source": [
    "### Part B\n",
    "\n",
    "Please determine what you feel is the best single variable linear model (i.e. using only one feature) to explain disease progression in terms of the data features, being sure to carefully explain your reasoning!"
   ]
  },
  {
   "cell_type": "markdown",
   "metadata": {},
   "source": [
    "### Part C\n",
    "\n",
    "Please determine what you feel is the best multivariable linear model (i.e. using more than one feature) to explain disease progression in terms of the data features, being sure to carefully explain your reasoning!"
   ]
  }
 ],
 "metadata": {
  "interpreter": {
   "hash": "bc7cedf40c17ea1804f800b80d11a23c34ac993c30c3697f6b053b805a948834"
  },
  "kernelspec": {
   "display_name": "Python 3.10.1 ('venv': venv)",
   "language": "python",
   "name": "python3"
  },
  "language_info": {
   "codemirror_mode": {
    "name": "ipython",
    "version": 3
   },
   "file_extension": ".py",
   "mimetype": "text/x-python",
   "name": "python",
   "nbconvert_exporter": "python",
   "pygments_lexer": "ipython3",
   "version": "3.10.1"
  },
  "orig_nbformat": 4
 },
 "nbformat": 4,
 "nbformat_minor": 2
}
